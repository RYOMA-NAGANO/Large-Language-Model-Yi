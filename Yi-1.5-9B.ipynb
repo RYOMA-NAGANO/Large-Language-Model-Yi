{
 "cells": [
  {
   "cell_type": "code",
   "execution_count": null,
   "id": "d575f9be-5e0e-4879-a541-6875b2d78db2",
   "metadata": {
    "ExecutionIndicator": {
     "show": true
    },
    "execution": {
     "iopub.execute_input": "2024-06-27T11:41:34.851385Z",
     "iopub.status.busy": "2024-06-27T11:41:34.851025Z",
     "iopub.status.idle": "2024-06-27T11:44:52.768831Z",
     "shell.execute_reply": "2024-06-27T11:44:52.768212Z",
     "shell.execute_reply.started": "2024-06-27T11:41:34.851358Z"
    },
    "tags": []
   },
   "outputs": [],
   "source": [
    "from transformers import AutoModelForCausalLM, AutoTokenizer\n",
    "from modelscope import snapshot_download\n",
    "model_path = snapshot_download('01ai/Yi-1.5-9B-Chat')\n",
    "\n",
    "tokenizer = AutoTokenizer.from_pretrained(model_path, use_fast=False)\n",
    "\n",
    "\n",
    "model = AutoModelForCausalLM.from_pretrained(\n",
    "    model_path,\n",
    "    device_map=\"auto\",\n",
    "    torch_dtype='auto'\n",
    ").eval()"
   ]
  },
  {
   "cell_type": "code",
   "execution_count": null,
   "id": "9411485e-834a-40a8-bf0e-dd008736ec73",
   "metadata": {
    "ExecutionIndicator": {
     "show": true
    },
    "execution": {
     "iopub.execute_input": "2024-06-27T11:45:09.429016Z",
     "iopub.status.busy": "2024-06-27T11:45:09.428544Z",
     "iopub.status.idle": "2024-06-27T11:45:09.722697Z",
     "shell.execute_reply": "2024-06-27T11:45:09.722238Z",
     "shell.execute_reply.started": "2024-06-27T11:45:09.428997Z"
    },
    "tags": []
   },
   "outputs": [],
   "source": [
    "# import our comment excel file to data frame format\n",
    "import pandas as pd\n",
    "df = pd.read_excel(\"comments_test.xlsx\")\n",
    "df.head()"
   ]
  },
  {
   "cell_type": "code",
   "execution_count": null,
   "id": "beb2ca5d-91d6-4742-b293-eac8219e2d56",
   "metadata": {
    "ExecutionIndicator": {
     "show": true
    },
    "tags": []
   },
   "outputs": [],
   "source": [
    "# Tidy Data\n",
    "comments = df['comments'].tolist()\n",
    "comments = [comment for comment in comments if \"NA\" not in comment]\n",
    "comments = [comment for comment in comments if comment.strip()]\n",
    "comments = [comment.replace('\\n', '') for comment in comments]\n",
    "comments = [comment.strip() for comment in comments]\n",
    "comments_clean = []\n",
    "for i in comments:\n",
    "    if i != '\"':\n",
    "        comments_clean.append(i)\n",
    "comments = comments_clean\n",
    "print(comments)"
   ]
  },
  {
   "cell_type": "code",
   "execution_count": 4,
   "id": "4af5b472-773e-4a60-bbd5-8cd286b29287",
   "metadata": {
    "execution": {
     "iopub.execute_input": "2024-06-27T11:45:22.191564Z",
     "iopub.status.busy": "2024-06-27T11:45:22.191234Z",
     "iopub.status.idle": "2024-06-27T11:45:22.194426Z",
     "shell.execute_reply": "2024-06-27T11:45:22.193819Z",
     "shell.execute_reply.started": "2024-06-27T11:45:22.191544Z"
    },
    "tags": []
   },
   "outputs": [],
   "source": [
    "\n",
    "example = \"\"\"\n",
    "Comment: \"I have purchased 2021 ID6 Crozz Long Range Pro model, and it has been more than 2 years since I bought the car. The car instrument and on-board Internet system have repeatedly failed.\"\n",
    "Vehicle components: instrument cluster, Internet.\n",
    "Comment: \"However, in less than half a year, the driving assistance system malfunctioned again in November 2022. After inspection by the 4S dealership, it was still believed to be a steering wheel malfunction, and the steering wheel was replaced for the second time\n",
    "Vehicle components: Assisted driving system\n",
    "\"\"\""
   ]
  },
  {
   "cell_type": "code",
   "execution_count": null,
   "id": "8c5b5000-d43e-431c-9b31-0fe731c45a97",
   "metadata": {
    "ExecutionIndicator": {
     "show": true
    },
    "execution": {
     "iopub.execute_input": "2024-06-27T11:48:08.746048Z",
     "iopub.status.busy": "2024-06-27T11:48:08.745688Z",
     "iopub.status.idle": "2024-06-27T11:48:35.040143Z",
     "shell.execute_reply": "2024-06-27T11:48:35.039603Z",
     "shell.execute_reply.started": "2024-06-27T11:48:08.746027Z"
    },
    "scrolled": true,
    "tags": []
   },
   "outputs": [],
   "source": [
    "# Main part for Yi\n",
    "for comment in comments:\n",
    "    prompt = f\"\"\"\n",
    "    The following paragraph is the evaluation of new energy vehicle owners on their vehicles. \n",
    "    Your task is to extract intelligent components belonging to the three major fields of automobiles mentioned in {comment}, without the need to extract additional automotive components. \n",
    "    Here is an example{example}. \n",
    "    Please write in the form of 'comment: {comment}, vehicle component:'. If no vehicle component is recognized, output 'no component' directly. No explanation is needed.\n",
    "    \"\"\"\n",
    "\n",
    "    messages = [\n",
    "            {\"role\": \"user\", \"content\": prompt}\n",
    "        ]\n",
    "\n",
    "    input_ids = tokenizer.apply_chat_template(conversation=messages, tokenize=True, return_tensors='pt')\n",
    "    output_ids = model.generate(input_ids.to('cuda'), eos_token_id=tokenizer.eos_token_id, max_new_tokens=150)\n",
    "    response = tokenizer.decode(output_ids[0][input_ids.shape[1]:], skip_special_tokens=True)\n",
    "    \n",
    "    key_word = \"Vehicle components\"\n",
    "    start_index = response.find(key_word)\n",
    "    if start_index != -1:\n",
    "        filt_response = response[start_index+len(key_word)+1:]\n",
    "        end_index = filt_response.find('\\n')\n",
    "        if end_index != -1 & end_index != 0:\n",
    "            filtered_response = filt_response[:end_index]\n",
    "            responses.append(filtered_response)\n",
    "            print(\"Comment: \"+comment)\n",
    "            print(\"\\n\")\n",
    "            print(\"Vehicle components：\"+filtered_response)\n",
    "            print(\"=\"*80)\n",
    "        else:\n",
    "            responses.append(filt_response)\n",
    "            print(\"Comment: \"+comment)\n",
    "            print(\"\\n\")\n",
    "            print(\"Vehicle components：\"+filt_response)\n",
    "            print(\"=\"*80)\n",
    "    else:\n",
    "        responses.append(response)\n",
    "        print(\"Comment: \"+comment)\n",
    "        print(\"\\n\")\n",
    "        print(\"Vehicle components：\"+response)\n",
    "        print(\"=\"*80)\n"
   ]
  },
  {
   "cell_type": "code",
   "execution_count": null,
   "id": "83299d80-cd64-42e3-b22f-48fbb5b63106",
   "metadata": {
    "ExecutionIndicator": {
     "show": true
    },
    "execution": {
     "iopub.execute_input": "2024-06-27T11:49:31.149862Z",
     "iopub.status.busy": "2024-06-27T11:49:31.149514Z",
     "iopub.status.idle": "2024-06-27T11:49:31.156755Z",
     "shell.execute_reply": "2024-06-27T11:49:31.156260Z",
     "shell.execute_reply.started": "2024-06-27T11:49:31.149843Z"
    },
    "tags": []
   },
   "outputs": [],
   "source": [
    "idx = range(1,len(responses)+1)\n",
    "# save output\n",
    "import pandas as pd\n",
    "output = pd.DataFrame({\n",
    "    'idx': list(idx),\n",
    "    'comment': comments,\n",
    "    'Component': responses,})\n",
    "output\n"
   ]
  },
  {
   "cell_type": "code",
   "execution_count": 13,
   "id": "f21948d9-ded9-4dc6-aa53-4a01537be798",
   "metadata": {
    "execution": {
     "iopub.execute_input": "2024-06-27T11:50:35.437937Z",
     "iopub.status.busy": "2024-06-27T11:50:35.437582Z",
     "iopub.status.idle": "2024-06-27T11:50:35.452191Z",
     "shell.execute_reply": "2024-06-27T11:50:35.451693Z",
     "shell.execute_reply.started": "2024-06-27T11:50:35.437918Z"
    },
    "tags": []
   },
   "outputs": [],
   "source": [
    "output.to_excel('output.xlsx', index=False)"
   ]
  },
  {
   "cell_type": "code",
   "execution_count": null,
   "id": "2b486a70-4d8e-4ad0-8522-350be13b1cbf",
   "metadata": {
    "ExecutionIndicator": {
     "show": true
    },
    "execution": {
     "iopub.execute_input": "2024-06-27T12:05:13.177988Z",
     "iopub.status.busy": "2024-06-27T12:05:13.177625Z",
     "iopub.status.idle": "2024-06-27T12:05:13.211712Z",
     "shell.execute_reply": "2024-06-27T12:05:13.211076Z",
     "shell.execute_reply.started": "2024-06-27T12:05:13.177967Z"
    },
    "tags": []
   },
   "outputs": [],
   "source": [
    "import pandas as pd\n",
    "\n",
    "# Load the uploaded file without specifying usecols initially\n",
    "file_path = 'Summary and subdivision of components in three major fields.xlsx'\n",
    "df = pd.read_excel(file_path)\n",
    "\n",
    "# Manually select the relevant columns based on the displayed column names\n",
    "selected_columns = ['Unified Name', 'Vehicle Components', 'Three Major Fields']\n",
    "\n",
    "# Drop rows with all NaN values in the selected columns\n",
    "df_selected = df[selected_columns].dropna(how='all')\n",
    "\n",
    "df_selected\n"
   ]
  }
 ],
 "metadata": {
  "kernelspec": {
   "display_name": "Python 3 (ipykernel)",
   "language": "python",
   "name": "python3"
  },
  "language_info": {
   "codemirror_mode": {
    "name": "ipython",
    "version": 3
   },
   "file_extension": ".py",
   "mimetype": "text/x-python",
   "name": "python",
   "nbconvert_exporter": "python",
   "pygments_lexer": "ipython3",
   "version": "3.10.14"
  }
 },
 "nbformat": 4,
 "nbformat_minor": 5
}
