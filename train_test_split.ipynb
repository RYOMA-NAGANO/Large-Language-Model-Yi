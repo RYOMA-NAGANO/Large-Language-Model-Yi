{
 "cells": [
  {
   "cell_type": "code",
   "execution_count": null,
   "id": "0d768b5b-696f-4487-84ae-fcd5361b382d",
   "metadata": {
    "execution": {
     "iopub.execute_input": "2024-06-20T02:40:14.227912Z",
     "iopub.status.busy": "2024-06-20T02:40:14.227492Z",
     "iopub.status.idle": "2024-06-20T02:40:14.712944Z",
     "shell.execute_reply": "2024-06-20T02:40:14.712100Z",
     "shell.execute_reply.started": "2024-06-20T02:40:14.227891Z"
    },
    "tags": []
   },
   "outputs": [],
   "source": [
    "from sklearn.model_selection import train_test_split\n",
    "\n",
    "def write_data(datapath, line_sen_list):\n",
    "    '''\n",
    "    datapath: The file address that needs to be written\n",
    "    line_sen_list: List of file content lines that need to be written\n",
    "    '''\n",
    "    with open(datapath, 'w', encoding='utf-8') as o:\n",
    "        o.write(''.join(line_sen_list))\n",
    "\n",
    "def main():\n",
    "    raw_data_path = 'Comments.txt'\n",
    "    train_data_path = 'train_80000.txt'\n",
    "    validate_data_path = 'validate_10000.txt'\n",
    "    test_data_path = 'test_10000.txt'\n",
    "\n",
    "    line_sen_list = []\n",
    "\n",
    "    # Read TXT files\n",
    "    with open(raw_data_path, 'r', encoding='utf-8') as f:\n",
    "        lines = f.readlines()\n",
    "    \n",
    "    # Tidy Data\n",
    "    lines = [line for line in lines if line.strip()]\n",
    "\n",
    "    # Select a fixed size dataset according to a certain pattern\n",
    "    for line in lines[0:100000]:\n",
    "        line_sen_list.append(line)\n",
    "\n",
    "    label_list = [0] * len(line_sen_list)  # Using a label list of the same size as the data,has no impact.\n",
    "\n",
    "    # First, randomly divide the 1. training set, 2. validation set, and test set according to an 8:2 ratio\n",
    "    X_train, X_validate_test, _, y_validate_test = train_test_split(line_sen_list, label_list, test_size=0.2, random_state=42)\n",
    "    # Randomly divide 1. validation set and 2. test set in a 1:1 ratio\n",
    "    X_validate, X_test, _, _ = train_test_split(X_validate_test, y_validate_test, test_size=0.5, random_state=42)\n",
    "    \n",
    "    # Write the divided training set, validation set, and test set to the specified directory separately\n",
    "    write_data(train_data_path, X_train)\n",
    "    write_data(validate_data_path, X_validate)\n",
    "    write_data(test_data_path, X_test)\n",
    "\n",
    "    print(f\"The training set data has been saved as {train_data_path}\")\n",
    "    print(f\"The validation set data has been saved as {validate_data_path}\")\n",
    "    print(f\"The testing set data has been saved as {test_data_path}\")\n",
    "\n",
    "if __name__ == '__main__':\n",
    "    main()\n"
   ]
  }
 ],
 "metadata": {
  "kernelspec": {
   "display_name": "Python 3 (ipykernel)",
   "language": "python",
   "name": "python3"
  },
  "language_info": {
   "codemirror_mode": {
    "name": "ipython",
    "version": 3
   },
   "file_extension": ".py",
   "mimetype": "text/x-python",
   "name": "python",
   "nbconvert_exporter": "python",
   "pygments_lexer": "ipython3",
   "version": "3.10.14"
  }
 },
 "nbformat": 4,
 "nbformat_minor": 5
}
